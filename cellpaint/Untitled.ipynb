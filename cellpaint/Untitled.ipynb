{
 "cells": [
  {
   "cell_type": "code",
   "execution_count": 21,
   "id": "21fcfaf3",
   "metadata": {},
   "outputs": [
    {
     "name": "stdout",
     "output_type": "stream",
     "text": [
      "48\n",
      "48\n",
      "24\n",
      "48\n"
     ]
    }
   ],
   "source": [
    "import multiprocessing as mp\n",
    "import psutil\n",
    "import os\n",
    "\n",
    "print(mp.cpu_count())\n",
    "# print(dir(os))\n",
    "print(psutil.cpu_count())\n",
    "print(psutil.cpu_count(logical=False))\n",
    "print(len(psutil.Process().cpu_affinity()))"
   ]
  },
  {
   "cell_type": "code",
   "execution_count": null,
   "id": "43d98624",
   "metadata": {},
   "outputs": [],
   "source": []
  }
 ],
 "metadata": {
  "kernelspec": {
   "display_name": "Python 3 (ipykernel)",
   "language": "python",
   "name": "python3"
  },
  "language_info": {
   "codemirror_mode": {
    "name": "ipython",
    "version": 3
   },
   "file_extension": ".py",
   "mimetype": "text/x-python",
   "name": "python",
   "nbconvert_exporter": "python",
   "pygments_lexer": "ipython3",
   "version": "3.10.10"
  }
 },
 "nbformat": 4,
 "nbformat_minor": 5
}
